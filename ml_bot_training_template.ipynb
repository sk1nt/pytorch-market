{
 "cells": [
  {
   "cell_type": "markdown",
   "id": "206c507c",
   "metadata": {},
   "source": [
    "# ML Bot Training Pipeline\n",
    "This notebook demonstrates a full workflow: data ingestion, feature engineering, model training, and backtesting using market and GEXBOT data."
   ]
  },
  {
   "cell_type": "code",
   "execution_count": null,
   "id": "562b7c66",
   "metadata": {},
   "outputs": [],
   "source": [
    "# Setup and Imports\n",
    "import pandas as pd\n",
    "import numpy as np\n",
    "from market_ml.data import download_price_history\n",
    "from market_ml.features import build_feature_matrix\n",
    "from market_ml.model import train_classifier\n",
    "from market_ml.backtest import run_long_only_backtest\n",
    "from market_ml.utils import plot_column"
   ]
  },
  {
   "cell_type": "markdown",
   "id": "52a5586a",
   "metadata": {},
   "source": [
    "## Download and Ingest Data\n",
    "Download price history and ingest GEXBOT data for your chosen ticker."
   ]
  },
  {
   "cell_type": "code",
   "execution_count": null,
   "id": "ad75d3e2",
   "metadata": {},
   "outputs": [],
   "source": [
    "# Example: Download SPY price history\n",
    "from market_ml .config import config\n",
    "data = download_price_history(config)\n",
    "# Optionally, load GEXBOT historical data from outputs/\n",
    "gex_df = pd.read_csv('outputs/SPY_gex_history.csv')"
   ]
  },
  {
   "cell_type": "markdown",
   "id": "847f599f",
   "metadata": {},
   "source": [
    "## Feature Engineering\n",
    "Build feature matrix including gamma exposure, sentiment, and price features."
   ]
  },
  {
   "cell_type": "code",
   "execution_count": null,
   "id": "25e4e101",
   "metadata": {},
   "outputs": [],
   "source": [
    "X, y = build_feature_matrix(data, ticker='SPY')\n",
    "# Optionally, merge GEXBOT features\n",
    "# X = X.join(gex_df.set_index('date'), on='date')"
   ]
  },
  {
   "cell_type": "markdown",
   "id": "0abe6034",
   "metadata": {},
   "source": [
    "## Train/Test Split\n",
    "Split chronologically for time series modeling."
   ]
  },
  {
   "cell_type": "code",
   "execution_count": null,
   "id": "2673f556",
   "metadata": {},
   "outputs": [],
   "source": [
    "train_ratio = 0.7\n",
    "result = train_classifier(X, y, train_ratio=train_ratio)"
   ]
  },
  {
   "cell_type": "markdown",
   "id": "c676ffe0",
   "metadata": {},
   "source": [
    "## Backtest and Evaluation\n",
    "Simulate strategy performance and analyze results."
   ]
  },
  {
   "cell_type": "code",
   "execution_count": null,
   "id": "17cfb661",
   "metadata": {},
   "outputs": [],
   "source": [
    "bt = run_long_only_backtest(data['Adj Close']['SPY'], result.test_predictions, trading_cost=0.001)\n",
    "plot_column(bt, 'strategy_equity', title='Strategy Equity Curve')"
   ]
  }
 ],
 "metadata": {
  "language_info": {
   "name": "python"
  }
 },
 "nbformat": 4,
 "nbformat_minor": 5
}
